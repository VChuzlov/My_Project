{
 "cells": [
  {
   "cell_type": "code",
   "execution_count": 1,
   "metadata": {},
   "outputs": [],
   "source": [
    "import numpy as np\n",
    "import pandas as pd\n",
    "from scipy.constants import R\n",
    "from scipy.optimize import root_scalar\n",
    "import matplotlib.pyplot as plt\n",
    "from typing import NamedTuple\n",
    "from functools import partial"
   ]
  },
  {
   "cell_type": "code",
   "execution_count": 2,
   "metadata": {},
   "outputs": [],
   "source": [
    "db = pd.read_csv('db.csv')"
   ]
  },
  {
   "cell_type": "code",
   "execution_count": 3,
   "metadata": {},
   "outputs": [
    {
     "data": {
      "text/plain": [
       "0      Methane\n",
       "1       Ethane\n",
       "2      Propane\n",
       "3     i-Butane\n",
       "4     n-Butane\n",
       "5    i-Pentane\n",
       "6    n-Pentane\n",
       "7     n-Hexane\n",
       "8    n-Heptane\n",
       "9     n-Octane\n",
       "Name: name, dtype: object"
      ]
     },
     "execution_count": 3,
     "metadata": {},
     "output_type": "execute_result"
    }
   ],
   "source": [
    "db.name.iloc[:10]"
   ]
  },
  {
   "cell_type": "code",
   "execution_count": 4,
   "metadata": {},
   "outputs": [],
   "source": [
    "names = ['Methane', 'Ethane', 'Propane', 'i-Butane', 'n-Butane',\n",
    "         'i-Pentane', 'n-Pentane', 'n-Hexane', 'n-Heptane', 'n-Octane']"
   ]
  },
  {
   "cell_type": "code",
   "execution_count": 5,
   "metadata": {},
   "outputs": [],
   "source": [
    "components = db[db.name.isin(names)]\n",
    "components = components.dropna(axis='columns')"
   ]
  },
  {
   "cell_type": "code",
   "execution_count": 6,
   "metadata": {},
   "outputs": [],
   "source": [
    "def calculate_tsat(\n",
    "        tc: np.ndarray,\n",
    "        pc: np.ndarray,\n",
    "        afactor: np.ndarray,\n",
    "        p: float\n",
    ") -> np.ndarray:\n",
    "    tsat = tc / (1 - 3 * np.log(p/pc) / (np.log(10) * (7 + 7 * afactor)))\n",
    "    return tsat"
   ]
  },
  {
   "cell_type": "code",
   "execution_count": 7,
   "metadata": {},
   "outputs": [],
   "source": [
    "def xi_from_yi(\n",
    "        yi: np.ndarray,\n",
    "        ki: np.ndarray\n",
    ") -> np.ndarray:\n",
    "    return yi / ki"
   ]
  },
  {
   "cell_type": "code",
   "execution_count": 8,
   "metadata": {},
   "outputs": [],
   "source": [
    "def calculate_ki(\n",
    "        tc: np.ndarray,\n",
    "        pc: np.ndarray,\n",
    "        afactor: np.ndarray,\n",
    "        t: float,\n",
    "        p: float\n",
    ") -> np.ndarray:\n",
    "    ki = np.exp(\n",
    "        np.log(pc / p) + np.log(10) \n",
    "        * (7/3) * (1 + afactor) * (1 - tc/t)\n",
    "    )\n",
    "    return ki"
   ]
  },
  {
   "cell_type": "markdown",
   "metadata": {},
   "source": [
    "## PR params calculation"
   ]
  },
  {
   "cell_type": "code",
   "execution_count": 9,
   "metadata": {},
   "outputs": [],
   "source": [
    "class PRComponentParams(NamedTuple):\n",
    "    ki: np.ndarray\n",
    "    alphai: np.ndarray\n",
    "    ai: np.ndarray\n",
    "    bi: np.ndarray"
   ]
  },
  {
   "cell_type": "code",
   "execution_count": 10,
   "metadata": {},
   "outputs": [],
   "source": [
    "def calculate_pr_params_for_components(\n",
    "        t: float,\n",
    "        tc: np.ndarray,\n",
    "        pc: np.ndarray,\n",
    "        afactor: np.ndarray,\n",
    "        r: float\n",
    ") -> PRComponentParams:\n",
    "    ki = .37464 + 1.54226 * afactor - .2699 * afactor ** 2\n",
    "    alphai = (1 + ki * (1 - (t / tc) ** .5)) ** 2\n",
    "    ai = .45724 * (r * tc) ** 2 * alphai / pc\n",
    "    bi = .07780 * r * tc / pc\n",
    "    params = PRComponentParams(\n",
    "        ki, alphai, ai, bi\n",
    "    )\n",
    "    return params"
   ]
  },
  {
   "cell_type": "code",
   "execution_count": 11,
   "metadata": {},
   "outputs": [],
   "source": [
    "class PRMixtureParams(NamedTuple):\n",
    "    aij: np.ndarray\n",
    "    a: float\n",
    "    b: float\n",
    "    a_: float\n",
    "    b_: float"
   ]
  },
  {
   "cell_type": "code",
   "execution_count": 12,
   "metadata": {},
   "outputs": [],
   "source": [
    "def calculate_pr_params_for_mixture(\n",
    "        t: float,\n",
    "        p: float,\n",
    "        kij: np.ndarray,\n",
    "        mf: np.ndarray,\n",
    "        ai: np.ndarray,\n",
    "        bi: np.ndarray,\n",
    "        r: float,\n",
    ") -> PRMixtureParams:\n",
    "    aij = np.zeros((ai.shape[0], ai.shape[0]), dtype=float)\n",
    "    a = 0\n",
    "    for i, _ in enumerate(ai):\n",
    "        for j, _ in enumerate(ai):\n",
    "            aij[i, j] = (ai[i] * ai[j]) ** .5 * (1 - kij[i, j])\n",
    "            a += aij[i, j] * mf[i] * mf[j]\n",
    "    b = (bi * mf).sum()\n",
    "    a_ = a * p / (r * t) ** 2\n",
    "    b_ = b * p / (r * t)\n",
    "    params = PRMixtureParams(\n",
    "        aij, a, b, a_, b_\n",
    "    )\n",
    "    return params"
   ]
  },
  {
   "cell_type": "code",
   "execution_count": 13,
   "metadata": {},
   "outputs": [],
   "source": [
    "def calculate_kij(vc: np.ndarray, n: int = 1) -> np.ndarray:\n",
    "    \"\"\"Chueh-Prausnitz correlation:\n",
    "    https://wiki.whitson.com/eos/bips/\n",
    "\n",
    "    Args:\n",
    "        vc (np.ndarray): _description_\n",
    "        n (int, optional): _description_. Defaults to 1.\n",
    "\n",
    "    Returns:\n",
    "        np.ndarray: _description_\n",
    "    \"\"\"\n",
    "    vc_r3 = vc ** (1 / 3)\n",
    "    numerator = np.multiply.outer(vc_r3, vc_r3) ** .5\n",
    "    denominator = np.add.outer(vc_r3, vc_r3) / 2\n",
    "    kij = 1 - (numerator / denominator) ** n\n",
    "    return kij"
   ]
  },
  {
   "cell_type": "markdown",
   "metadata": {},
   "source": [
    "#### Solving Cubic Equation"
   ]
  },
  {
   "cell_type": "code",
   "execution_count": 51,
   "metadata": {},
   "outputs": [],
   "source": [
    "def solve_cubic_equation(\n",
    "        a: float, b: float, kind: str = 'max'\n",
    ") -> float | None:\n",
    "    if kind not in ('max', 'min'):\n",
    "        print(f'Parameter \"kind\" must be \"min\" or \"max\" not {kind}')\n",
    "        return\n",
    "    \n",
    "    c0 = b ** 3 + b ** 2 - a * b\n",
    "    c1 = a - 3 * b ** 2 - 2 * b\n",
    "    c2 = b - 1\n",
    "\n",
    "    q1 = c2 * c1 / 6 - c0 / 2 - c2 ** 3 / 27\n",
    "    p1 = c2 ** 2 / 9 - c1 / 3\n",
    "    d = q1 ** 2 - p1 ** 3\n",
    "\n",
    "    if d >= 0:\n",
    "        print(d, q1)\n",
    "        return (\n",
    "            (q1 + d ** .5) ** (1 / 3) \n",
    "            + (np.abs(q1 - d ** .5)) ** (1 / 3) - c2 / 3\n",
    "        )\n",
    "\n",
    "    \n",
    "    t1 = q1 * 2 / p1 ** 3\n",
    "    t2 = (1 - t1) ** .5 / t1 ** .5 * q1 / np.abs(q1)\n",
    "    theta = np.arctan(t2)\n",
    "\n",
    "    z0 = 2 * p1 ** .5 * np.cos(theta / 3) - c2 / 3\n",
    "    z1 = 2 * p1 ** .5 * np.cos((theta + 2 * np.pi) / 3) - c2 / 3\n",
    "    z2 = 2 * p1 ** .5 * np.cos((theta * 4 * np.pi) / 3) - c2 / 3\n",
    "    roots = z0, z1, z2\n",
    "\n",
    "    return max(roots) if kind == 'max' else min(roots)"
   ]
  },
  {
   "cell_type": "code",
   "execution_count": 52,
   "metadata": {},
   "outputs": [],
   "source": [
    "def calculate_fugasity(\n",
    "        z: float,\n",
    "        bi: np.ndarray,\n",
    "        b: float,\n",
    "        b_: float,\n",
    "        a_: float,\n",
    "        mf: np.ndarray,\n",
    "        aij: np.ndarray,\n",
    ") -> np.ndarray:\n",
    "    log_phi = np.zeros_like(bi)\n",
    "    for i, _ in enumerate(bi):\n",
    "        s = 0\n",
    "        for j, _ in enumerate(bi):\n",
    "            s += mf[j] * aij[i, j]\n",
    "        log_phi[i] = (\n",
    "            bi[i] / b * (z - 1) - np.log(z - b_)\n",
    "            - a_ / (2 * 2 ** .5 * b_) * (2 * s / a_ - bi[i] / b)\n",
    "            * np.log((z + (1 + 2 * .5) * b_) / (z + (1 - 2 ** .5) * b_))\n",
    "        )\n",
    "    return np.exp(log_phi)"
   ]
  },
  {
   "cell_type": "code",
   "execution_count": 53,
   "metadata": {},
   "outputs": [],
   "source": [
    "class DewPointResults(NamedTuple):\n",
    "    t_dew_point: float\n",
    "    xi: np.ndarray"
   ]
  },
  {
   "cell_type": "code",
   "execution_count": 54,
   "metadata": {},
   "outputs": [],
   "source": [
    "def Rashford_Rice(\n",
    "        zi: np.ndarray, ki: np.ndarray,\n",
    "        phase_state: int | None = None,\n",
    "        bracket: tuple[float, float] | None = None,\n",
    "        **root_scalar_kwargs\n",
    ") -> float:\n",
    "\n",
    "    def obj_fun(e: float, zi: np.ndarray, ki: np.ndarray) -> float:\n",
    "        s = (zi * (ki - 1) / (1 + e * (ki - 1))).sum()\n",
    "        return s\n",
    "\n",
    "    f = partial(obj_fun, zi=zi, ki=ki)\n",
    "    if not bracket:\n",
    "        a, b = 0, 1\n",
    "        bracket = a, b\n",
    "    else:\n",
    "        a, b = bracket\n",
    "\n",
    "    if phase_state:\n",
    "        if phase_state == 1:\n",
    "            return 0\n",
    "\n",
    "        if phase_state == 2:\n",
    "            return 1\n",
    "\n",
    "        if phase_state == 3:\n",
    "            x0 = a\n",
    "\n",
    "        elif phase_state == 4:\n",
    "            x0 = .99999\n",
    "\n",
    "        else:\n",
    "            print('Phase state error')\n",
    "            return np.nan\n",
    "    else:\n",
    "        x0 = (a + b) / 2\n",
    "\n",
    "    if np.sign(f(a) * f(b)) < 0:\n",
    "        sol = root_scalar(\n",
    "            f, bracket=bracket, x0=x0, x1=b,\n",
    "            method='bisect', **root_scalar_kwargs\n",
    "        )\n",
    "        return sol.root\n",
    "\n",
    "    print('Rashford-Race: No Solutions')\n",
    "    return np.nan"
   ]
  },
  {
   "cell_type": "code",
   "execution_count": 55,
   "metadata": {},
   "outputs": [],
   "source": [
    "def calculate_x_from_z(\n",
    "        zi: np.ndarray,\n",
    "        e: float,\n",
    "        ki: np.ndarray\n",
    ") -> np.ndarray:\n",
    "    if np.isclose(e, 1.):\n",
    "        return np.zeros_like(zi)\n",
    "\n",
    "    if np.isclose(e, .0):\n",
    "        return zi\n",
    "\n",
    "    x = zi / (1 + e * (ki - 1))\n",
    "    return x"
   ]
  },
  {
   "cell_type": "code",
   "execution_count": 56,
   "metadata": {},
   "outputs": [],
   "source": [
    "def calculate_y_from_z(\n",
    "        zi: np.ndarray,\n",
    "        xi: np.ndarray,\n",
    "        e: float,\n",
    "        ki: np.ndarray\n",
    ") -> np.ndarray:\n",
    "    if np.isclose(e, 1.):\n",
    "        return zi\n",
    "\n",
    "    if np.isclose(e, .0):\n",
    "        return np.zeros_like(zi)\n",
    "\n",
    "    y = xi * ki\n",
    "    return y"
   ]
  },
  {
   "cell_type": "code",
   "execution_count": 57,
   "metadata": {},
   "outputs": [],
   "source": [
    "def calculate_dew_point(\n",
    "        z: np.ndarray,\n",
    "        tc: np.ndarray,\n",
    "        pc: np.ndarray,\n",
    "        afactor: np.ndarray,\n",
    "        vc: np.ndarray,\n",
    "        t: float,\n",
    "        p: float,\n",
    "        xtol: float = 1e-5,\n",
    "        nit: int = 25\n",
    ") -> DewPointResults:\n",
    "    ki = calculate_ki(\n",
    "        tc=tc, pc=pc, afactor=afactor, t=t, p=p\n",
    "    )\n",
    "    e = Rashford_Rice(zi=z, ki=ki)\n",
    "    x = calculate_x_from_z(zi=z, e=e, ki=ki)\n",
    "    y = calculate_y_from_z(zi=z, xi=x, e=e, ki=ki)\n",
    "    components_params = calculate_pr_params_for_components(\n",
    "        t=t, tc=tc, pc=pc, afactor=afactor, r=R\n",
    "    )\n",
    "    kij = calculate_kij(vc)\n",
    "    vparams = calculate_pr_params_for_mixture(\n",
    "        t=t, p=p, kij=kij, mf=y, ai=components_params.ai,\n",
    "        bi=components_params.bi, r=R\n",
    "    )\n",
    "    zv = solve_cubic_equation(\n",
    "        a=vparams.a_, b=vparams.b_ \n",
    "    )\n",
    "    phi_v = calculate_fugasity(\n",
    "        z=zv, bi=components_params.bi,\n",
    "        b=vparams.b, b_=vparams.b_, a_=vparams.a_,\n",
    "        mf=y, aij=vparams.aij\n",
    "    )\n",
    "\n",
    "    x_prev = x\n",
    "    for _ in range(nit):\n",
    "        lparams = calculate_pr_params_for_mixture(\n",
    "            t=t, p=p, kij=kij, mf=x, ai=components_params.ai,\n",
    "            bi=components_params.bi, r=R\n",
    "        )\n",
    "        zl = solve_cubic_equation(\n",
    "            a=lparams.a_, b=lparams.b_, kind='min'\n",
    "        )\n",
    "        phi_l = calculate_fugasity(\n",
    "            z=zl, bi=components_params.bi,\n",
    "            b=lparams.b, b_=lparams.b_, a_=lparams.a_,\n",
    "            mf=y, aij=lparams.aij\n",
    "        )\n",
    "        x = y * phi_v / phi_l\n",
    "        \n",
    "        err = np.abs(x_prev - x)\n",
    "        if err.sum() <= xtol:\n",
    "            break\n",
    "        x_prev = x\n",
    "\n",
    "    return (ki * x).sum()"
   ]
  },
  {
   "cell_type": "code",
   "execution_count": 58,
   "metadata": {},
   "outputs": [],
   "source": [
    "z = np.ones(len(names), dtype=float)\n",
    "z /= z.sum()"
   ]
  },
  {
   "cell_type": "code",
   "execution_count": 59,
   "metadata": {},
   "outputs": [],
   "source": [
    "tc = components['CriticalTemperatureValue'].to_numpy() + 273.15\n",
    "pc = components['CriticalPressureValue'].to_numpy() / 100\n",
    "afactor = components['AcentricityValue'].to_numpy()\n",
    "vc = components['CriticalVolumeValue'].to_numpy()"
   ]
  },
  {
   "cell_type": "code",
   "execution_count": 60,
   "metadata": {},
   "outputs": [],
   "source": [
    "p = 10.1325\n",
    "t = 273.15"
   ]
  },
  {
   "cell_type": "code",
   "execution_count": 61,
   "metadata": {},
   "outputs": [
    {
     "name": "stdout",
     "output_type": "stream",
     "text": [
      "1.1383635260345747e-05 0.029253674796358986\n",
      "0.0009163401117845059 -0.028656901350285438\n"
     ]
    },
    {
     "name": "stderr",
     "output_type": "stream",
     "text": [
      "C:\\Users\\Vyacheslav\\AppData\\Local\\Temp\\ipykernel_14000\\3552197288.py:49: RuntimeWarning: invalid value encountered in divide\n",
      "  x = y * phi_v / phi_l\n"
     ]
    }
   ],
   "source": [
    "sol = calculate_dew_point(\n",
    "    z=z, tc=tc, pc=pc, afactor=afactor,\n",
    "    vc=vc, t=t, p=p\n",
    ")"
   ]
  },
  {
   "cell_type": "code",
   "execution_count": 63,
   "metadata": {},
   "outputs": [
    {
     "data": {
      "text/plain": [
       "nan"
      ]
     },
     "execution_count": 63,
     "metadata": {},
     "output_type": "execute_result"
    }
   ],
   "source": [
    "sol"
   ]
  },
  {
   "cell_type": "code",
   "execution_count": null,
   "metadata": {},
   "outputs": [],
   "source": []
  }
 ],
 "metadata": {
  "kernelspec": {
   "display_name": "base",
   "language": "python",
   "name": "python3"
  },
  "language_info": {
   "codemirror_mode": {
    "name": "ipython",
    "version": 3
   },
   "file_extension": ".py",
   "mimetype": "text/x-python",
   "name": "python",
   "nbconvert_exporter": "python",
   "pygments_lexer": "ipython3",
   "version": "3.11.5"
  }
 },
 "nbformat": 4,
 "nbformat_minor": 2
}
