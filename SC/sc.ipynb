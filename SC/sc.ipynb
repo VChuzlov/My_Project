{
 "cells": [
  {
   "cell_type": "code",
   "execution_count": 1,
   "metadata": {},
   "outputs": [],
   "source": [
    "import numpy as np"
   ]
  },
  {
   "cell_type": "code",
   "execution_count": 2,
   "metadata": {},
   "outputs": [],
   "source": [
    "tb = np.array(\n",
    "    [\n",
    "        20, 28, 34, 50, 65\n",
    "    ]\n",
    ")\n",
    "mm = np.array(\n",
    "    [\n",
    "        35, 49, 60, 71, 82\n",
    "    ]\n",
    ")\n",
    "rho = np.array(\n",
    "    [\n",
    "        .594, .635, .626, .654, .683\n",
    "    ]\n",
    ")\n",
    "mf = np.array(\n",
    "    [\n",
    "        .2, .2, .2, .2, .2\n",
    "    ]\n",
    ")\n",
    "mol_f = mf / mm / (mf / mm).sum()"
   ]
  },
  {
   "cell_type": "code",
   "execution_count": null,
   "metadata": {},
   "outputs": [],
   "source": []
  }
 ],
 "metadata": {
  "kernelspec": {
   "display_name": "Dist311",
   "language": "python",
   "name": "python3"
  },
  "language_info": {
   "codemirror_mode": {
    "name": "ipython",
    "version": 3
   },
   "file_extension": ".py",
   "mimetype": "text/x-python",
   "name": "python",
   "nbconvert_exporter": "python",
   "pygments_lexer": "ipython3",
   "version": "3.11.5"
  }
 },
 "nbformat": 4,
 "nbformat_minor": 2
}
